{
 "cells": [
  {
   "cell_type": "markdown",
   "metadata": {},
   "source": [
    "### OOP\n",
    "\n",
    "What software should achieve : \n",
    "- 1- Robustness"
   ]
  },
  {
   "cell_type": "markdown",
   "metadata": {},
   "source": [
    ">If the program encountes something tha it can not handles, it should recover gracefully.\n",
    ">This can be deadly : overdose for example"
   ]
  },
  {
   "cell_type": "markdown",
   "metadata": {},
   "source": [
    "- 2 - Adabtability"
   ]
  },
  {
   "cell_type": "markdown",
   "metadata": {},
   "source": [
    "- 3- Reusability"
   ]
  },
  {
   "cell_type": "markdown",
   "metadata": {},
   "source": [
    "### Object-Oriented principles "
   ]
  },
  {
   "cell_type": "markdown",
   "metadata": {},
   "source": [
    "#### 1.Modularity "
   ]
  },
  {
   "cell_type": "markdown",
   "metadata": {},
   "source": [
    "- This is the orgnizing principles which states that the the component of a software are devided into seperate functional units"
   ]
  },
  {
   "cell_type": "markdown",
   "metadata": {},
   "source": [
    "> A house can be looked at as a consiting of several units, heating, electrical, mechanical etc, instead of looking at it as just \n",
    "wires and cables"
   ]
  },
  {
   "cell_type": "markdown",
   "metadata": {},
   "source": [
    "#### 2.Abstraction"
   ]
  },
  {
   "cell_type": "markdown",
   "metadata": {},
   "source": [
    "- to distill a complicated system to it's most fundemental part"
   ]
  },
  {
   "cell_type": "markdown",
   "metadata": {},
   "source": [
    "> Abstact data types"
   ]
  },
  {
   "cell_type": "markdown",
   "metadata": {},
   "source": [
    "#### 3.Encapsulation"
   ]
  },
  {
   "cell_type": "markdown",
   "metadata": {},
   "source": [
    "- Different units in the software system should not reveal the internal parts of their respective implementation\n"
   ]
  },
  {
   "cell_type": "markdown",
   "metadata": {},
   "source": [
    "Recursion (Chapter 4) \n",
    "-  Amortization (Sections 5.3 and 11.4) \n",
    "-  Divide-and-conquer (Section 12.2.1) \n",
    "-  Prune-and-search, also known as decrease-and-conquer (Section 12.7.1)\n",
    "-  Brute force (Section 13.2.1) • Dynamic programming (Section 13.3). \n",
    "-  The greedy method (Sections 13.4.2, 14.6.2, and 14.7)\n",
    "\n",
    "(Page 61). "
   ]
  },
  {
   "cell_type": "markdown",
   "metadata": {},
   "source": [
    "### Software Development"
   ]
  },
  {
   "cell_type": "markdown",
   "metadata": {},
   "source": [
    "- Design\n",
    "- Implementation\n",
    "- Testing and debugging"
   ]
  },
  {
   "cell_type": "code",
   "execution_count": 20,
   "metadata": {},
   "outputs": [],
   "source": [
    "class CreditCard:\n",
    "    \"\"\" \n",
    "    A consumer credit card \n",
    "    \"\"\"\n",
    "    \n",
    "    def init (self, customer, bank, acnt, limit):\n",
    "        \"\"\"\n",
    "        Create a new credit card instance.\n",
    "        The initial balance is zero.\n",
    "        customer the name of the customer (e.g., John Bowman )\n",
    "        bank the name of the bank (e.g., California Savings ) \n",
    "        acnt the acount identifier (e.g., 5391 0375 9387 5309 )\n",
    "        limit credit limit (measured in dollars)\n",
    "        \"\"\"\n",
    "        self._customer = customer\n",
    "        self._bank = bank\n",
    "        self._account = acnt\n",
    "        self._limit = limit\n",
    "        self._balance = 0\n",
    "    \n",
    "    def get_customer(self): \n",
    "        \"\"\"Return name of the customer\"\"\"\n",
    "        return self._customer  # the variables wiht underscore means the variables is nonpuplic\n",
    "    def get_bank(self):\n",
    "        \"\"\" Return the bank s name\"\"\"\n",
    "        return self._bank\n",
    "    def get_account(self):\n",
    "        \"\"\"Return the card identifying number (typically stored as a string).\"\"\"\n",
    "        return self._account\n",
    "    def get_limit(self): \n",
    "        \"\"\"Return current credit limit\"\"\"\n",
    "        return self._limit\n",
    "    def get_balance(self):\n",
    "        \"\"\"\"Return current balance.\"\"\"\n",
    "        return self._balance\n",
    "    def charge(self, price):\n",
    "        \"\"\"Charge given price to the card, assuming sufficient credit limit.\n",
    "        Return True if charge was processed; False if charge was denied.\n",
    "        \"\"\"\n",
    "        if price + self._balance > self._limit: # if charge would exceed limit,\n",
    "            return False # cannot accept charge\n",
    "        else: \n",
    "            self._balance += price \n",
    "            return True \n",
    "    def make_payment(self, amount): \n",
    "        \"\"\"\n",
    "        Process customer payment that reduces balance.\n",
    "        \"\"\"\n",
    "        self._balance -= amount\n"
   ]
  },
  {
   "cell_type": "markdown",
   "metadata": {},
   "source": [
    "> method signature as declared within the class versus that used by a caller.\n",
    "- For example, the user can see a method that takes no variables while infact it takes one explicit variables which is self\n",
    "\n"
   ]
  },
  {
   "cell_type": "markdown",
   "metadata": {},
   "source": [
    "- When we say cc = CredCard ('John Doe', '1st Bank' , '5391 0375 9387 5309' , 1000)\n",
    "\n",
    "- this is the call to the especial init methof ' the constructer' to build a new object and with all the instances that are defined in the class\n",
    "- the initial method will be the explicit values provided by the user"
   ]
  },
  {
   "cell_type": "markdown",
   "metadata": {},
   "source": [
    "### Inheritance"
   ]
  },
  {
   "cell_type": "code",
   "execution_count": null,
   "metadata": {},
   "outputs": [],
   "source": []
  }
 ],
 "metadata": {
  "kernelspec": {
   "display_name": "Python 3",
   "language": "python",
   "name": "python3"
  },
  "language_info": {
   "codemirror_mode": {
    "name": "ipython",
    "version": 3
   },
   "file_extension": ".py",
   "mimetype": "text/x-python",
   "name": "python",
   "nbconvert_exporter": "python",
   "pygments_lexer": "ipython3",
   "version": "3.7.6"
  }
 },
 "nbformat": 4,
 "nbformat_minor": 4
}
